{
 "cells": [
  {
   "cell_type": "markdown",
   "id": "b1582703",
   "metadata": {},
   "source": [
    "# Исследование окупаемости маркетинговых кампаний\n",
    "\n",
    "Мы занимаемся анализом продукта. В контекстную рекламную кампанию было вложено 10000 рублей. Средний CPM объявлений — 120 рублей. CTR объявлений — 1,2%. Конверсия в заявку — 5%. Конверсия из заявки в продажу — 90%. Средний чек — 200 рублей. Наша задача — оценить финансовую эффективность рекламной кампании."
   ]
  },
  {
   "cell_type": "code",
   "execution_count": 1,
   "id": "07d55bc6",
   "metadata": {},
   "outputs": [],
   "source": [
    "Investments = 10000\n",
    "CPM = 120\n",
    "CTR = 0.012\n",
    "CR = 0.05\n",
    "PR = 0.9\n",
    "AvgCheck = 200\n",
    "#Income = ?"
   ]
  },
  {
   "cell_type": "code",
   "execution_count": 2,
   "id": "9acc85db",
   "metadata": {},
   "outputs": [],
   "source": [
    "show = Investments / CPM * 1000"
   ]
  },
  {
   "cell_type": "code",
   "execution_count": 3,
   "id": "a4d14564",
   "metadata": {},
   "outputs": [
    {
     "data": {
      "text/plain": [
       "83333.33333333333"
      ]
     },
     "execution_count": 3,
     "metadata": {},
     "output_type": "execute_result"
    }
   ],
   "source": [
    "show"
   ]
  },
  {
   "cell_type": "code",
   "execution_count": 4,
   "id": "952e1ac1",
   "metadata": {},
   "outputs": [],
   "source": [
    "cliсks = show * CTR"
   ]
  },
  {
   "cell_type": "code",
   "execution_count": 5,
   "id": "5cb570bc",
   "metadata": {},
   "outputs": [
    {
     "data": {
      "text/plain": [
       "1000.0"
      ]
     },
     "execution_count": 5,
     "metadata": {},
     "output_type": "execute_result"
    }
   ],
   "source": [
    "cliсks"
   ]
  },
  {
   "cell_type": "code",
   "execution_count": 6,
   "id": "d879b4b9",
   "metadata": {},
   "outputs": [],
   "source": [
    "requests = cliсks * CR"
   ]
  },
  {
   "cell_type": "code",
   "execution_count": 7,
   "id": "220f1466",
   "metadata": {},
   "outputs": [
    {
     "data": {
      "text/plain": [
       "50.0"
      ]
     },
     "execution_count": 7,
     "metadata": {},
     "output_type": "execute_result"
    }
   ],
   "source": [
    "requests"
   ]
  },
  {
   "cell_type": "code",
   "execution_count": 8,
   "id": "5c6fcfc3",
   "metadata": {},
   "outputs": [],
   "source": [
    "purchases = requests * PR"
   ]
  },
  {
   "cell_type": "code",
   "execution_count": 9,
   "id": "89a2b388",
   "metadata": {},
   "outputs": [
    {
     "data": {
      "text/plain": [
       "45.0"
      ]
     },
     "execution_count": 9,
     "metadata": {},
     "output_type": "execute_result"
    }
   ],
   "source": [
    "purchases"
   ]
  },
  {
   "cell_type": "code",
   "execution_count": 10,
   "id": "91482afc",
   "metadata": {},
   "outputs": [],
   "source": [
    "Revenue = purchases * AvgCheck"
   ]
  },
  {
   "cell_type": "code",
   "execution_count": 11,
   "id": "6fb4eaa0",
   "metadata": {},
   "outputs": [
    {
     "data": {
      "text/plain": [
       "9000.0"
      ]
     },
     "execution_count": 11,
     "metadata": {},
     "output_type": "execute_result"
    }
   ],
   "source": [
    "Revenue"
   ]
  },
  {
   "cell_type": "code",
   "execution_count": 12,
   "id": "dc285f3c",
   "metadata": {},
   "outputs": [],
   "source": [
    "Income = Revenue - Investments"
   ]
  },
  {
   "cell_type": "code",
   "execution_count": 13,
   "id": "68b80a51",
   "metadata": {},
   "outputs": [
    {
     "data": {
      "text/plain": [
       "-1000.0"
      ]
     },
     "execution_count": 13,
     "metadata": {},
     "output_type": "execute_result"
    }
   ],
   "source": [
    "Income"
   ]
  },
  {
   "cell_type": "code",
   "execution_count": 14,
   "id": "472588ad",
   "metadata": {},
   "outputs": [],
   "source": [
    "Revenue = (Investments / CPM * 1000 * CTR * CR * PR * AvgCheck) - Investments"
   ]
  },
  {
   "cell_type": "code",
   "execution_count": 34,
   "id": "74b4ff96",
   "metadata": {},
   "outputs": [
    {
     "name": "stdout",
     "output_type": "stream",
     "text": [
      "Прибыль составляет: -1000.0\n"
     ]
    }
   ],
   "source": [
    "print('Прибыль составляет:', Revenue)"
   ]
  },
  {
   "cell_type": "code",
   "execution_count": 39,
   "id": "718a4d9b",
   "metadata": {},
   "outputs": [
    {
     "name": "stdout",
     "output_type": "stream",
     "text": [
      "Прибыль составляет: -1000 рублей.\n"
     ]
    }
   ],
   "source": [
    "print('Прибыль составляет: {} рублей.'.format(round(Revenue)))"
   ]
  },
  {
   "cell_type": "code",
   "execution_count": 29,
   "id": "d02074aa",
   "metadata": {},
   "outputs": [
    {
     "data": {
      "text/plain": [
       "Text(0.5, 1.0, 'Окупаеость кампании, ROI')"
      ]
     },
     "execution_count": 29,
     "metadata": {},
     "output_type": "execute_result"
    },
    {
     "data": {
      "image/png": "[encoded data removed]",
      "text/plain": [
       "<Figure size 432x288 with 1 Axes>"
      ]
     },
     "metadata": {
      "needs_background": "light"
     },
     "output_type": "display_data"
    }
   ],
   "source": [
    "from matplotlib import pyplot as plt\n",
    "plt.axhline(y=Investments, color='red', linestyle='--', label='Уровень окупаемости')\n",
    "plt.axhline(y=Revenue + Investments, color='Blue', linestyle='-', label='Выручка')\n",
    "plt.legend()\n",
    "plt.ylabel('Сумма, руб')\n",
    "plt.xticks([])\n",
    "plt.title('Окупаеость кампании, ROI')"
   ]
  }
 ],
 "metadata": {
  "kernelspec": {
   "display_name": "Python 3 (ipykernel)",
   "language": "python",
   "name": "python3"
  },
  "language_info": {
   "codemirror_mode": {
    "name": "ipython",
    "version": 3
   },
   "file_extension": ".py",
   "mimetype": "text/x-python",
   "name": "python",
   "nbconvert_exporter": "python",
   "pygments_lexer": "ipython3",
   "version": "3.9.7"
  },
  "toc": {
   "base_numbering": 1,
   "nav_menu": {},
   "number_sections": true,
   "sideBar": true,
   "skip_h1_title": false,
   "title_cell": "Содержание",
   "title_sidebar": "Содержание",
   "toc_cell": false,
   "toc_position": {},
   "toc_section_display": true,
   "toc_window_display": false
  }
 },
 "nbformat": 4,
 "nbformat_minor": 5
}
