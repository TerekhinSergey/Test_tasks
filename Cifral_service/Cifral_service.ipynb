{
 "cells": [
  {
   "cell_type": "markdown",
   "id": "94357f6d",
   "metadata": {
    "toc": true
   },
   "source": [
    "<h1>Содержание<span class=\"tocSkip\"></span></h1>\n",
    "<div class=\"toc\"><ul class=\"toc-item\"><li><span><a href=\"#Импортируем-библиотеки-и-изучим-данные.\" data-toc-modified-id=\"Импортируем-библиотеки-и-изучим-данные.-1\"><span class=\"toc-item-num\">1&nbsp;&nbsp;</span>Импортируем библиотеки и изучим данные.</a></span><ul class=\"toc-item\"><li><span><a href=\"#Вывод\" data-toc-modified-id=\"Вывод-1.1\"><span class=\"toc-item-num\">1.1&nbsp;&nbsp;</span>Вывод</a></span></li></ul></li><li><span><a href=\"#Предобработка-данных\" data-toc-modified-id=\"Предобработка-данных-2\"><span class=\"toc-item-num\">2&nbsp;&nbsp;</span>Предобработка данных</a></span><ul class=\"toc-item\"><li><span><a href=\"#Замена-названий-столбцов\" data-toc-modified-id=\"Замена-названий-столбцов-2.1\"><span class=\"toc-item-num\">2.1&nbsp;&nbsp;</span>Замена названий столбцов</a></span></li><li><span><a href=\"#Замена-типа-данных\" data-toc-modified-id=\"Замена-типа-данных-2.2\"><span class=\"toc-item-num\">2.2&nbsp;&nbsp;</span>Замена типа данных</a></span></li><li><span><a href=\"#Обработка-дубликатов\" data-toc-modified-id=\"Обработка-дубликатов-2.3\"><span class=\"toc-item-num\">2.3&nbsp;&nbsp;</span>Обработка дубликатов</a></span></li><li><span><a href=\"#Обработка-пропусков\" data-toc-modified-id=\"Обработка-пропусков-2.4\"><span class=\"toc-item-num\">2.4&nbsp;&nbsp;</span>Обработка пропусков</a></span></li><li><span><a href=\"#Проверка-корректности-подключенных-тарифов-и-тарифных-ставок\" data-toc-modified-id=\"Проверка-корректности-подключенных-тарифов-и-тарифных-ставок-2.5\"><span class=\"toc-item-num\">2.5&nbsp;&nbsp;</span>Проверка корректности подключенных тарифов и тарифных ставок</a></span></li><li><span><a href=\"#Вывод\" data-toc-modified-id=\"Вывод-2.6\"><span class=\"toc-item-num\">2.6&nbsp;&nbsp;</span>Вывод</a></span></li></ul></li><li><span><a href=\"#Проведение-необходимых-расчетов\" data-toc-modified-id=\"Проведение-необходимых-расчетов-3\"><span class=\"toc-item-num\">3&nbsp;&nbsp;</span>Проведение необходимых расчетов</a></span><ul class=\"toc-item\"><li><span><a href=\"#Расчет-для-каждого-ЛС-суммы-всех-поступивших-платежей-с-учетом-возвратов,-но-исключая-списания\" data-toc-modified-id=\"Расчет-для-каждого-ЛС-суммы-всех-поступивших-платежей-с-учетом-возвратов,-но-исключая-списания-3.1\"><span class=\"toc-item-num\">3.1&nbsp;&nbsp;</span>Расчет для каждого ЛС суммы всех поступивших платежей с учетом возвратов, но исключая списания</a></span></li><li><span><a href=\"#Расчет-для-каждого-ЛС-плановой-выручки-с-учетом-дат-начала-услуг-на-ЛС-и-ставки-тарифа\" data-toc-modified-id=\"Расчет-для-каждого-ЛС-плановой-выручки-с-учетом-дат-начала-услуг-на-ЛС-и-ставки-тарифа-3.2\"><span class=\"toc-item-num\">3.2&nbsp;&nbsp;</span>Расчет для каждого ЛС плановой выручки с учетом дат начала услуг на ЛС и ставки тарифа</a></span></li><li><span><a href=\"#Расчет-для-каждого-ЛС-сальдо:-плановая-выручка-(п.-3.2)-минус-сумма-платежей-(из-п.-3.1)\" data-toc-modified-id=\"Расчет-для-каждого-ЛС-сальдо:-плановая-выручка-(п.-3.2)-минус-сумма-платежей-(из-п.-3.1)-3.3\"><span class=\"toc-item-num\">3.3&nbsp;&nbsp;</span>Расчет для каждого ЛС сальдо: плановая выручка (п. 3.2) минус сумма платежей (из п. 3.1)</a></span></li><li><span><a href=\"#Рассчет-для-каждой-квартиры-частоту-платежей-и-количество-оплаченных-тарифов-за-календарный-год\" data-toc-modified-id=\"Рассчет-для-каждой-квартиры-частоту-платежей-и-количество-оплаченных-тарифов-за-календарный-год-3.4\"><span class=\"toc-item-num\">3.4&nbsp;&nbsp;</span>Рассчет для каждой квартиры частоту платежей и количество оплаченных тарифов за календарный год</a></span></li></ul></li><li><span><a href=\"#Общий-вывод\" data-toc-modified-id=\"Общий-вывод-4\"><span class=\"toc-item-num\">4&nbsp;&nbsp;</span>Общий вывод</a></span></li><li><span><a href=\"#Рекомендации\" data-toc-modified-id=\"Рекомендации-5\"><span class=\"toc-item-num\">5&nbsp;&nbsp;</span>Рекомендации</a></span></li></ul></div>"
   ]
  },
  {
   "cell_type": "markdown",
   "id": "08e8a534",
   "metadata": {},
   "source": [
    "# Исследование платежной дисциплины абонентов \n",
    "\n",
    "Федеральная компания «Цифрал-Сервис» устанавливает и обслуживает системы безопасности многоквартирных домов. Необходимо выяснить, как ведут себя пользователи, пользующиеся этими услугами.   \n",
    "Клиентам предлагается три базовых тарифных плана: «ТО МКД», «ТО СВОД» и «ТО ДВЕРЬ». Чтобы оценить рентабельность бизнеса, необходимо посчитать сальдо по каждому клиенту.  \n",
    "Нам предстоит сделать предварительный анализ пользовательской активности на небольшой выборке клиентов. В нашем распоряжении данные более 40 000 лицевых счетов клиентов «Цифрал-Сервиса»: с идентификатором дома, подъезда и квартиры, каким тарифом пользуются, когда его открыли, закрыли и открыли новый, а также сумма и дата его оплаты.\n",
    "\n",
    "\n",
    "# Цель проекта.\n",
    "\n",
    "Проанализировать поведение клиентов и сделать вывод — о платежной дисциплине абонентов.\n",
    "\n",
    "\n",
    "# Задачи проекта.\n",
    "\n",
    "Во время исследования необходимо решить следующие задачи:\n",
    "\n",
    "1. Изучить исходные данные и провести их предобработку.\n",
    "2. Рассчитать для каждого ЛС сумму всех поступивших платежей с учетом возвратов, но исключая списания. \n",
    "3. Рассчитать для каждого ЛС плановую выручку с учетом дат начала услуг на ЛС и ставки тарифа\n",
    "4. Рассчитать для каждого ЛС сальдо: плановая выручка (п. 3) минус сумма платежей (из п. 2).\n",
    "5. Рассчитать для каждой квартиры частоту платежей и количество оплаченных тарифов а календарный год.\n",
    "\n",
    "# Описание данных.\n",
    "<div style=\"border:solid black 1px; padding: 20px\">   \n",
    " \n",
    "Имеется несколько датафреймов.\n",
    "    \n",
    "*Таблица ЛС* (информация о пользователях):  \n",
    "    \n",
    "`ИД дома ` — уникальный идентификатор дома  \n",
    "`ИД подъезда` — уникальный идентификатор подъезда в доме   \n",
    "`ИД квартиры` — уникальный идентификатор квартиры в подъезде   \n",
    "`Лицевой счет (ЛС)` — номер лицевого счета в квартире (может быть несколько в 1 квартире)   \n",
    "`Услуга` — услуга периодического обслуживания (может быть несколько услуг на 1 ЛС)  \n",
    "`Тариф` — ставка тарифа в месяц по услуге, действующая на момент выгрузки данных  \n",
    "`Статус услуги` — название статуса услуги  \n",
    "`Дата начала услуги` — дата начала действия услуги на ЛС  \n",
    "\n",
    "*Таблица платежей*: \n",
    "    \n",
    "`ЛС` — номер лицевого счета  \n",
    "`Сумма платежа` — сумма платежа, поступившего на ЛС   \n",
    "`Дата загрузки` — дата загрузки платежа в БД  \n",
    "`Источник платежа` — способ ввода платежа БД. Возможны возвраты платежей со знаком \"-\" и списания со знаком \"+\"  \n",
    "`Спопосб оплаты` — источник платежа (название платежной системы или оплат в офисе)\n",
    "`Комментарий к платежу` — существенная информация по платежу \n",
    "    \n",
    "*Комментарии к данным*  \n",
    "Одновременно на одной квартире может быть только одна базовая услуга «ТО МКД», «ТО СВОД» и «ТО ДВЕРЬ» в статусе «Завершена». \n",
    "Остальные услуги дополнительные и могут быть на одном ЛС с базовой услугой или дополнительном ЛС на квартире.  \n",
    "Если на одном ЛС есть несколько базовых услуг («ТО МКД», «ТО СВОД» и «ТО ДВЕРЬ»), то ранее действующая должна быть в статусе «Завершена». "
   ]
  },
  {
   "cell_type": "markdown",
   "id": "31184b11",
   "metadata": {},
   "source": [
    "## Импортируем библиотеки и изучим данные."
   ]
  },
  {
   "cell_type": "code",
   "execution_count": 1,
   "id": "1097056b",
   "metadata": {},
   "outputs": [],
   "source": [
    "import pandas as pd\n",
    "import matplotlib.pyplot as plt\n",
    "import numpy as np\n",
    "import plotly.express as px\n",
    "import seaborn as sns\n",
    "pd.set_option('display.float_format', '{:,.2f}'.format)\n",
    "pd.options.mode.chained_assignment = None  # default='warn'"
   ]
  },
  {
   "cell_type": "code",
   "execution_count": null,
   "id": "c02b21f1",
   "metadata": {},
   "outputs": [],
   "source": [
    "#Загрузим данные\n",
    "path = 'C:\\\\Users\\\\Sergey\\\\Documents\\\\Python Scripts\\\\Тестовое для ЦС\\\\'\n",
    "try:\n",
    "    df_acc = pd.read_excel(path + 'Таблица ЛС.xlsx')        # данные о ЛС\n",
    "    df_payt = pd.read_excel(path + 'Таблица платежей.xlsx') # данные о платежах\n",
    "except:\n",
    "    print('Error loading')"
   ]
  },
  {
   "cell_type": "code",
   "execution_count": null,
   "id": "6033fe06",
   "metadata": {},
   "outputs": [],
   "source": [
    "#Напишем функцию для вывода основной информации о ДФ.\n",
    "NORM = '\\033[0m'  # все атрибуты по умолчанию\n",
    "BOLD = '\\033[1m'  # жирный шрифт (интенсивный цвет)\n",
    "\n",
    "df_list = [df_acc, df_payt]\n",
    "[df_acc.name, df_payt.name] = ['Данные о ЛС', 'Данные о платежах']\n",
    "def full_info(df_list):\n",
    "    for df in df_list:\n",
    "        print(BOLD+df.name)\n",
    "        if len(df.index) > 10:\n",
    "            print(BOLD+'\\n Случайная выборка 10 строк датафрейма:')\n",
    "            display (df.sample(n=10, random_state=10))\n",
    "        else:\n",
    "            print(BOLD+'\\n Первые 10 строк датафрейма:')\n",
    "            display (df.head(10))\n",
    "        print(BOLD+'\\n Типы данных и общая информация: \\n'+NORM)\n",
    "        display(df.info())\n",
    "        print(BOLD+' Наличие дубликатов: '+NORM, df.duplicated().sum())\n",
    "        print(BOLD+'\\n Наличие пропусков: \\n'+NORM)\n",
    "        display(df.isna().sum())\n",
    "        print(BOLD+'\\n Статистики количественных переменных :')\n",
    "        display(df.describe())\n",
    "        print('*'*50)\n",
    "    return"
   ]
  },
  {
   "cell_type": "code",
   "execution_count": null,
   "id": "40d0d125",
   "metadata": {
    "scrolled": false
   },
   "outputs": [],
   "source": [
    "#Посмотрим на данные.\n",
    "full_info(df_list)"
   ]
  },
  {
   "cell_type": "markdown",
   "id": "83ed8395",
   "metadata": {},
   "source": [
    "### Вывод"
   ]
  },
  {
   "cell_type": "markdown",
   "id": "3243be86",
   "metadata": {},
   "source": [
    "<div style=\"border:solid green 2px; padding: 20px\">\n",
    "\n",
    "В датафреймах представлена информация о пользователях тарифов (ЛС) и платежам по ним. В таблице с ЛС имеется 227 пропуска в столбце `Ставка тарифа` и 350970 пропусков в столбце комментарий к платежу, т.к. он не является обязательным. Во всех таблицах с типом данных int64 и float64 можно привести к типу данных uint16 и float16 соответственно для экономии памяти, а столбцы переименовать на английский для удобства работы с ними. Также имеется 585 дубликатов в таблице с платежами.\n",
    "Аномальных значений не наблюдается (отрицательные платежи являются возвратами)."
   ]
  },
  {
   "cell_type": "markdown",
   "id": "7941310f",
   "metadata": {},
   "source": [
    "## Предобработка данных"
   ]
  },
  {
   "cell_type": "markdown",
   "id": "b2a6f8a3",
   "metadata": {},
   "source": [
    "### Замена названий столбцов"
   ]
  },
  {
   "cell_type": "code",
   "execution_count": null,
   "id": "1b47b610",
   "metadata": {},
   "outputs": [],
   "source": [
    "df_acc.columns = ['house_id', 'porch_id', 'flat_id', 'acc_id', 'tariff', 'rate', 'status', 'start_date']\n",
    "df_payt.columns=['acc_id', 'amount_pay', 'load_date', 'source_pay', 'pay_method', 'comment']"
   ]
  },
  {
   "cell_type": "code",
   "execution_count": null,
   "id": "b6554075",
   "metadata": {},
   "outputs": [],
   "source": [
    "#Проверим результат\n",
    "display(df_acc.columns)\n",
    "df_payt.columns"
   ]
  },
  {
   "cell_type": "markdown",
   "id": "6180d885",
   "metadata": {},
   "source": [
    "### Замена типа данных"
   ]
  },
  {
   "cell_type": "code",
   "execution_count": null,
   "id": "019fd687",
   "metadata": {
    "scrolled": true
   },
   "outputs": [],
   "source": [
    "#Для оптимизации данных и определения используемого объема памяти создадим функцию\n",
    "def mem_usage(pandas_obj):\n",
    "    if isinstance(pandas_obj,pd.DataFrame):\n",
    "        usage_b = pandas_obj.memory_usage(deep=True).sum()\n",
    "    usage_mb = usage_b / 1024 ** 2 # преобразуем байты в мегабайты\n",
    "    return \"{:03.2f}\".format(usage_mb), 'Mb'"
   ]
  },
  {
   "cell_type": "code",
   "execution_count": null,
   "id": "3a6f35ab",
   "metadata": {},
   "outputs": [],
   "source": [
    "for i in df_list:\n",
    "    display(mem_usage(i))"
   ]
  },
  {
   "cell_type": "code",
   "execution_count": null,
   "id": "7200c694",
   "metadata": {},
   "outputs": [],
   "source": [
    "#Заменим тип данных\n",
    "int64_uint16 = ['house_id', 'porch_id', 'flat_id', 'acc_id']\n",
    "for i in int64_uint16:\n",
    "    df_acc[i] = df_acc[i].astype('uint16')\n",
    "df_acc.rate = df_acc.rate.astype('float16')\n",
    "df_payt.amount_pay = df_payt.amount_pay.astype('float16')\n",
    "df_payt.acc_id = df_payt.acc_id.astype('uint16')"
   ]
  },
  {
   "cell_type": "code",
   "execution_count": null,
   "id": "9e508b71",
   "metadata": {},
   "outputs": [],
   "source": [
    "#Посмотрим на используемый объем памяти после этого.\n",
    "display(mem_usage(df_acc))\n",
    "mem_usage(df_payt)"
   ]
  },
  {
   "cell_type": "markdown",
   "id": "2a296bc3",
   "metadata": {},
   "source": [
    "### Обработка дубликатов"
   ]
  },
  {
   "cell_type": "code",
   "execution_count": null,
   "id": "2c4501f1",
   "metadata": {
    "scrolled": true
   },
   "outputs": [],
   "source": [
    "#Посмотрим на дубликаты\n",
    "df_payt[df_payt.duplicated(keep=False)].head(40)"
   ]
  },
  {
   "cell_type": "code",
   "execution_count": null,
   "id": "6c801b24",
   "metadata": {},
   "outputs": [],
   "source": [
    "#Похоже на ошибочно дублированную информацию.\n",
    "#К тому же, количество составляет меньше 0,2% от всей информации. Удалим их\n",
    "df_payt = df_payt.drop_duplicates()"
   ]
  },
  {
   "cell_type": "markdown",
   "id": "ade0d35f",
   "metadata": {},
   "source": [
    "### Обработка пропусков"
   ]
  },
  {
   "cell_type": "code",
   "execution_count": null,
   "id": "25294db4",
   "metadata": {
    "scrolled": false
   },
   "outputs": [],
   "source": [
    "df_acc[df_acc.rate.isna()]"
   ]
  },
  {
   "cell_type": "markdown",
   "id": "e8ea883b",
   "metadata": {},
   "source": [
    "Можем увидеть, что пропуска в тарифах связаны с тем, что это рассрочка за монтаж ВБ."
   ]
  },
  {
   "cell_type": "markdown",
   "id": "e1b9a54d",
   "metadata": {},
   "source": [
    "### Проверка корректности подключенных тарифов и тарифных ставок"
   ]
  },
  {
   "cell_type": "markdown",
   "id": "8ec19643",
   "metadata": {},
   "source": [
    "Проверим следующее условие: \"Если на одном ЛС есть несколько базовых услуг (ТО МКД, ТО СВОД или ТО ДВЕРЬ), то ранее действующая должна быть в статусе Завершена.\" \n",
    "Для этого отфильтруем наш ДФ по активным основным услугам и проверим их количество (должен быть один активный основной тариф)."
   ]
  },
  {
   "cell_type": "code",
   "execution_count": null,
   "id": "d0b56161",
   "metadata": {},
   "outputs": [],
   "source": [
    "df_active = df_acc.query('tariff == [\"ТО МКД\", \"ТО СВОД\", \"ТО ДВЕРЬ\"] and status == \"Активна\"')\n",
    "df_active"
   ]
  },
  {
   "cell_type": "code",
   "execution_count": null,
   "id": "d5ba8408",
   "metadata": {},
   "outputs": [],
   "source": [
    "(df_active.pivot_table(index='acc_id', aggfunc='count')\n",
    "          .status.reset_index()\n",
    "          .sort_values(by='status', ascending=False))"
   ]
  },
  {
   "cell_type": "markdown",
   "id": "470204ee",
   "metadata": {},
   "source": [
    "Видно, что имеется только один активный основной тариф у каждого клиента. Посмотрим на распределение значений тарифных ставок."
   ]
  },
  {
   "cell_type": "code",
   "execution_count": null,
   "id": "e8388c36",
   "metadata": {},
   "outputs": [],
   "source": [
    "x_values = pd.Series(range(0, len(df_acc)))\n",
    "plt.figure(figsize=(10, 5))\n",
    "plt.scatter(x_values, df_acc['rate'])\n",
    "plt.title('Тарифные ставки', fontsize=15);\n",
    "plt.xlabel('Наблюдение', fontsize=15);\n",
    "plt.ylabel('Тарифная ставка, руб', fontsize=15)\n",
    "plt.yticks(size = 15);"
   ]
  },
  {
   "cell_type": "markdown",
   "id": "91a3264e",
   "metadata": {},
   "source": [
    "По графику распределения значений явно видно, что тарифная ставка в 10 рублей является аномальной, избавимся от нее."
   ]
  },
  {
   "cell_type": "code",
   "execution_count": null,
   "id": "ded50ebf",
   "metadata": {},
   "outputs": [],
   "source": [
    "df_acc = df_acc[df_acc.rate < 9]\n",
    "df_acc"
   ]
  },
  {
   "cell_type": "markdown",
   "id": "90d97c39",
   "metadata": {},
   "source": [
    "### Вывод"
   ]
  },
  {
   "cell_type": "markdown",
   "id": "564f09da",
   "metadata": {},
   "source": [
    "<div style=\"border:solid green 2px; padding: 20px\">\n",
    "Для удобства дальнейшей работы русскоязычные названия столбцов заменены на английские. Во всех столбцах, где это необходимо, проведена замена типа данных, в результате чего мы снизили объем потребляемой памяти. В таблице с платежами удалены дубликаты. В таблице с ЛС пропуска в тарифах связаны с тем, что это рассрочка за монтаж ВБ. В таблице корректно заполнены тарифы - один действующий основной с закрытми остальными. Данные готовы для дальнейшего анализа."
   ]
  },
  {
   "cell_type": "markdown",
   "id": "663d2fca",
   "metadata": {},
   "source": [
    "## Проведение необходимых расчетов"
   ]
  },
  {
   "cell_type": "markdown",
   "id": "5e2dd6b8",
   "metadata": {},
   "source": [
    "### Расчет для каждого ЛС суммы всех поступивших платежей с учетом возвратов, но исключая списания"
   ]
  },
  {
   "cell_type": "markdown",
   "id": "c6336d90",
   "metadata": {},
   "source": [
    "Для начала посмотрим, за какой срок у нас представлены данные о платежах, и исключим все списания в соответствии с условием задачи."
   ]
  },
  {
   "cell_type": "code",
   "execution_count": null,
   "id": "1c0c1f64",
   "metadata": {},
   "outputs": [],
   "source": [
    "print('Данные представлены за следующий период:', df_payt.load_date.min(), df_payt.load_date.max())"
   ]
  },
  {
   "cell_type": "code",
   "execution_count": null,
   "id": "4f10f413",
   "metadata": {},
   "outputs": [],
   "source": [
    "#Исключим все списания.\n",
    "df_payt = df_payt.query('source_pay != [\"Авто. списание\", \"Ручное списание\"]')\n",
    "df_payt"
   ]
  },
  {
   "cell_type": "markdown",
   "id": "0ec9bd76",
   "metadata": {},
   "source": [
    "Затем построим сводную таблицу по сумме платежей на каждом ЛС."
   ]
  },
  {
   "cell_type": "code",
   "execution_count": null,
   "id": "86dc90dd",
   "metadata": {},
   "outputs": [],
   "source": [
    "paid = (df_payt.pivot_table(index='acc_id', aggfunc={'amount_pay': 'sum'})\n",
    "               .sort_values(by='amount_pay', ascending=False)\n",
    "               .reset_index())\n",
    "paid"
   ]
  },
  {
   "cell_type": "markdown",
   "id": "f3bb36c8",
   "metadata": {},
   "source": [
    "### Расчет для каждого ЛС плановой выручки с учетом дат начала услуг на ЛС и ставки тарифа"
   ]
  },
  {
   "cell_type": "markdown",
   "id": "d10ab856",
   "metadata": {},
   "source": [
    "Для подсчета плановой выручки напишем функцию, рассчитывающую ее по активным тарифам в промежутке времени, по которым у нас есть информация о платежах. "
   ]
  },
  {
   "cell_type": "code",
   "execution_count": null,
   "id": "bc5c0575",
   "metadata": {},
   "outputs": [],
   "source": [
    "def revenue(row):\n",
    "    if row['start_date'] > pd.to_datetime('01.01.2018'):\n",
    "        months = round((pd.to_datetime('13.10.2021')-row['start_date'])/np.timedelta64(1, 'M'))\n",
    "    else:\n",
    "        months = round((pd.to_datetime('13.10.2021')-pd.to_datetime('01.01.2018'))/np.timedelta64(1, 'M'))\n",
    "    return round(months * row['rate'], 1)"
   ]
  },
  {
   "cell_type": "code",
   "execution_count": null,
   "id": "b483af5f",
   "metadata": {},
   "outputs": [],
   "source": [
    "df_acc['revenue'] = df_acc.apply(revenue, axis=1)"
   ]
  },
  {
   "cell_type": "code",
   "execution_count": null,
   "id": "8796ac5e",
   "metadata": {},
   "outputs": [],
   "source": [
    "df_active = df_acc.query('status == \"Активна\"')\n",
    "final = (df_active.pivot_table(index='acc_id', aggfunc={'revenue': 'sum'})\n",
    "                  .sort_values(by='revenue', ascending=False)\n",
    "                  .reset_index())\n",
    "final"
   ]
  },
  {
   "cell_type": "markdown",
   "id": "bcedeecb",
   "metadata": {},
   "source": [
    "### Расчет для каждого ЛС сальдо: плановая выручка (п. 3.2) минус сумма платежей (из п. 3.1)"
   ]
  },
  {
   "cell_type": "markdown",
   "id": "eaca1dc4",
   "metadata": {},
   "source": [
    "Для подсчета разницы нам нужно объединить результаты из предыдущих двух пунктов."
   ]
  },
  {
   "cell_type": "code",
   "execution_count": null,
   "id": "1f2109f0",
   "metadata": {},
   "outputs": [],
   "source": [
    "final=final.merge(paid, on='acc_id')\n",
    "final"
   ]
  },
  {
   "cell_type": "markdown",
   "id": "860719da",
   "metadata": {},
   "source": [
    "Теперь не представляется трудным посчитать сальдо для каждого ЛС."
   ]
  },
  {
   "cell_type": "code",
   "execution_count": null,
   "id": "8a36b06b",
   "metadata": {},
   "outputs": [],
   "source": [
    "final['balance'] = final['revenue'] - final['amount_pay']\n",
    "final"
   ]
  },
  {
   "cell_type": "code",
   "execution_count": null,
   "id": "4db4a28d",
   "metadata": {},
   "outputs": [],
   "source": [
    "final = final.query('revenue > 30')\n",
    "final"
   ]
  },
  {
   "cell_type": "markdown",
   "id": "5c8392f8",
   "metadata": {},
   "source": [
    "Построим диаграмму размаха полученных данных."
   ]
  },
  {
   "cell_type": "code",
   "execution_count": null,
   "id": "bf77ed3b",
   "metadata": {},
   "outputs": [],
   "source": [
    "plt.figure(figsize=(10,5))\n",
    "sns.boxplot(data = final, y='balance')\n",
    "plt.title('Распределение сальдо по ЛС', fontsize=15)\n",
    "plt.ylabel('Сальдо, руб', fontsize=15)\n",
    "plt.yticks(size = 15);"
   ]
  },
  {
   "cell_type": "markdown",
   "id": "64554b9f",
   "metadata": {},
   "source": [
    "Видно, что половина всех клиентов оплачивают услуги всрок, имея на счету до 37 рублей, а вторая половина пользуется услугами авансом до суммы в 53 рубля. Так же имеются и значительные выбросы, вплоть до аномальных - оплаты услуг наперед на сумму до 880 и долгов до 330 рублей. Для лучшей визуализации ограничим эти выбросы."
   ]
  },
  {
   "cell_type": "code",
   "execution_count": null,
   "id": "c6479223",
   "metadata": {},
   "outputs": [],
   "source": [
    "plt.figure(figsize=(10,5))\n",
    "sns.boxplot(data = final, y='balance')\n",
    "plt.title('Распределение сальдо по ЛС', fontsize=15)\n",
    "plt.ylabel('Сальдо, руб', fontsize=15)\n",
    "plt.yticks(size = 15)\n",
    "plt.ylim([-50, 80]);"
   ]
  },
  {
   "cell_type": "code",
   "execution_count": null,
   "id": "0ad2ee73",
   "metadata": {},
   "outputs": [],
   "source": [
    "print('Общая сумма сальдо по всем ЛС:', round(final.balance.sum()))"
   ]
  },
  {
   "cell_type": "markdown",
   "id": "29489b75",
   "metadata": {},
   "source": [
    "### Рассчет для каждой квартиры частоту платежей и количество оплаченных тарифов за календарный год"
   ]
  },
  {
   "cell_type": "code",
   "execution_count": null,
   "id": "517486fc",
   "metadata": {},
   "outputs": [],
   "source": [
    "df_payt['year'] = df_payt['load_date'].dt.year\n",
    "df_payt"
   ]
  },
  {
   "cell_type": "code",
   "execution_count": null,
   "id": "09a1017e",
   "metadata": {},
   "outputs": [],
   "source": [
    "paid_count = (df_payt.pivot_table(index='acc_id', columns='year', values='amount_pay', aggfunc='count')\n",
    "                     .reset_index().drop('acc_id', axis = 1))\n",
    "paid_count"
   ]
  },
  {
   "cell_type": "code",
   "execution_count": null,
   "id": "f1127e27",
   "metadata": {},
   "outputs": [],
   "source": [
    "plt.figure(figsize=(10, 7))\n",
    "sns.boxplot(data=paid_count)\n",
    "plt.title('Количество платежей по ЛС за каждый год', fontsize=20)\n",
    "plt.xlabel('Год', fontsize=15)\n",
    "plt.xticks(size = 12)\n",
    "plt.ylabel('Количество, шт', fontsize=15)\n",
    "plt.yticks(size = 12) \n",
    "plt.show();"
   ]
  },
  {
   "cell_type": "markdown",
   "id": "f023648d",
   "metadata": {},
   "source": [
    "Очевидно, что из-за аномально большого количества платежей по некоторым ЛС нельзя рассмотреть основную массу ЛС. Ограничим визуализацию."
   ]
  },
  {
   "cell_type": "code",
   "execution_count": null,
   "id": "01df9c23",
   "metadata": {},
   "outputs": [],
   "source": [
    "plt.figure(figsize=(10, 7))\n",
    "sns.boxplot(data=paid_count)\n",
    "plt.title('Количество платежей по ЛС за каждый год', fontsize=20)\n",
    "plt.xlabel('Год', fontsize=15)\n",
    "plt.xticks(size = 12)\n",
    "plt.ylabel('Количество, шт', fontsize=15)\n",
    "plt.yticks(size = 12) \n",
    "plt.ylim(0, 15)\n",
    "plt.show();"
   ]
  },
  {
   "cell_type": "markdown",
   "id": "59a28a5b",
   "metadata": {},
   "source": [
    "По графикам видно, что количество платежей по каждому ЛС в разрезе лет равномерно, в последние три года медиана составляет 2 платежа за год. Однако также имеются аномальные счета с количеством оплат по 100-200 в год, особенно за 2020 год.  \n",
    "Посмотрим на распределение количества оплаченных тарифов за год по ЛС."
   ]
  },
  {
   "cell_type": "code",
   "execution_count": null,
   "id": "3a401581",
   "metadata": {},
   "outputs": [],
   "source": [
    "df_active['year'] = df_active['start_date'].dt.year"
   ]
  },
  {
   "cell_type": "code",
   "execution_count": null,
   "id": "62f44029",
   "metadata": {},
   "outputs": [],
   "source": [
    "df_active_count = (df_active.pivot_table(index='acc_id', columns='year', values='status', aggfunc='count')\n",
    "                     .reset_index().drop('acc_id', axis = 1))\n",
    "df_active_count"
   ]
  },
  {
   "cell_type": "code",
   "execution_count": null,
   "id": "3bf0ed6c",
   "metadata": {},
   "outputs": [],
   "source": [
    "plt.figure(figsize=(10, 7))\n",
    "sns.boxplot(data=df_active_count)\n",
    "plt.title('Распределение количества оплаченных тарифов за год по ЛС', fontsize=20)\n",
    "plt.xlabel('Год', fontsize=15)\n",
    "plt.xticks(size = 12)\n",
    "plt.ylabel('Количество, шт', fontsize=15)\n",
    "plt.yticks(size = 12) \n",
    "plt.show();"
   ]
  },
  {
   "cell_type": "markdown",
   "id": "bd032472",
   "metadata": {},
   "source": [
    "По диаграммам размаха видно, что с 2006 по 2011 год у всех пользователей был только один активный тариф, а с 2012 по 2021 у некоторых появилось по 2 активных тарифа одновременно. "
   ]
  },
  {
   "cell_type": "markdown",
   "id": "bf224547",
   "metadata": {},
   "source": [
    "## Общий вывод"
   ]
  },
  {
   "cell_type": "markdown",
   "id": "546480b7",
   "metadata": {},
   "source": [
    "<div style=\"border:solid green 2px; padding: 20px\">\n",
    "\n",
    "После проведенного анализа **за период времени с 01.01.2018 по 13.10.2021** можно сделать следующие выводы:\n",
    "    \n",
    "- посчитав стоимость за предоставленные услуги и оплату этих услуг, можно заключить, что **половина всех клиентов оплачивают услуги всрок, имея на счету до 37 рублей, а вторая половина пользуется услугами авансом до суммы в 53 рубля**, а так же имеются и значительные выбросы, **вплоть до аномальных - оплаты услуг наперед на сумму до 880 и долгов до 330 рублей**. **Суммарное сальдо** за этот период составляет порядка **350 тыс. рублей.**\n",
    "- **количество платежей** по каждому ЛС в разрезе лет равномерно, в последние три года медиана **составляет 2 платежа за год**.\n",
    "Однако также имеются аномальные счета с количеством оплат по 100-200 в год, особенно за 2020 год.\n",
    "- **с 2006 по 2011 год у всех пользователей был только один активный тариф, а с 2012 по 2021 у некоторых появилось по 2 активных тарифа одновременно.** "
   ]
  },
  {
   "cell_type": "markdown",
   "id": "9f168f01",
   "metadata": {},
   "source": [
    "## Рекомендации"
   ]
  },
  {
   "cell_type": "markdown",
   "id": "21a6d49d",
   "metadata": {},
   "source": [
    "<div style=\"border:solid green 2px; padding: 20px\">\n",
    "Для более детального анализа платежной дисциплины абонентов, можно сделать следующее:\n",
    "    \n",
    "- произвести **когортный анализ** (посчитать Retention Rate (коэффициент удержания), Churn Rate (коэффициент оттока)\n",
    "- имея маркетинговые данные, можно произвести **анализ юнит-экономики** (посчитать LTV (общую прибыль с клиента), CAC (затраты на привлечение клиента) и ROI (возврат на инвестиции с клиента))\n",
    "- имея персональные данные, можно произвести **классификацию клиентов** и их анализ (определение наиболее прибыльных/убыточных категорий клиентов по возрасту/полу/городу и месту жительства/др.)\n",
    "- определив интересующие нас классы клиентов, **произвести A/B-тестирование** по предоставлению нового типа услуг с последующим определением статистическими методами долей в группах для определения надежности полученных данных\n",
    "    \n",
    "Для возможности качественного анализа вышеописанных методов **рекомендуется сделать следующие технические изменения:**\n",
    "- **создать реляционную базу данных** (с взаимосвязанными таблицами между собой \"ЛС - описание клиента\", \"ЛС - история платежей\" и прочие)\n",
    "- в данной базе **сформировать необходимую структуру и типы данных** (в частности, создать два столбца с началом и окончанием действия тарифа, т.к. по текущим данным с завершенными услугами не представляется возможным отследить дату окончания ее использования при отсутствии заменяющей ее новой активной услуги)"
   ]
  }
 ],
 "metadata": {
  "ExecuteTimeLog": [
   {
    "duration": 941,
    "start_time": "2022-02-15T04:51:02.538Z"
   },
   {
    "duration": 1736,
    "start_time": "2022-02-15T04:51:03.480Z"
   },
   {
    "duration": 30,
    "start_time": "2022-02-15T04:51:05.218Z"
   },
   {
    "duration": 48,
    "start_time": "2022-02-15T04:51:05.250Z"
   },
   {
    "duration": 106,
    "start_time": "2022-02-15T04:51:05.299Z"
   },
   {
    "duration": 401,
    "start_time": "2022-02-15T04:51:05.407Z"
   },
   {
    "duration": 261,
    "start_time": "2022-02-15T04:51:05.809Z"
   },
   {
    "duration": 38,
    "start_time": "2022-02-15T04:51:06.072Z"
   },
   {
    "duration": 22,
    "start_time": "2022-02-15T04:51:06.111Z"
   },
   {
    "duration": 65,
    "start_time": "2022-02-15T04:51:06.135Z"
   },
   {
    "duration": 54,
    "start_time": "2022-02-15T04:51:06.202Z"
   },
   {
    "duration": 37,
    "start_time": "2022-02-15T04:51:06.257Z"
   },
   {
    "duration": 31,
    "start_time": "2022-02-15T04:51:06.296Z"
   },
   {
    "duration": 6,
    "start_time": "2022-02-15T04:51:06.328Z"
   },
   {
    "duration": 7,
    "start_time": "2022-02-15T04:51:06.335Z"
   },
   {
    "duration": 9,
    "start_time": "2022-02-15T04:51:06.343Z"
   },
   {
    "duration": 4,
    "start_time": "2022-02-15T04:51:06.353Z"
   },
   {
    "duration": 12,
    "start_time": "2022-02-15T04:51:06.359Z"
   },
   {
    "duration": 7,
    "start_time": "2022-02-15T04:51:06.372Z"
   },
   {
    "duration": 13,
    "start_time": "2022-02-15T04:51:06.380Z"
   },
   {
    "duration": 46,
    "start_time": "2022-02-15T04:51:06.394Z"
   },
   {
    "duration": 13,
    "start_time": "2022-02-15T04:51:06.441Z"
   },
   {
    "duration": 11,
    "start_time": "2022-02-15T04:51:06.456Z"
   },
   {
    "duration": 17,
    "start_time": "2022-02-15T04:51:06.469Z"
   },
   {
    "duration": 4,
    "start_time": "2022-02-15T04:51:06.487Z"
   },
   {
    "duration": 53,
    "start_time": "2022-02-15T04:51:06.492Z"
   },
   {
    "duration": 17,
    "start_time": "2022-02-15T04:51:06.547Z"
   },
   {
    "duration": 13,
    "start_time": "2022-02-15T04:51:06.565Z"
   },
   {
    "duration": 4,
    "start_time": "2022-02-15T04:51:06.579Z"
   },
   {
    "duration": 321,
    "start_time": "2022-02-15T04:51:06.584Z"
   },
   {
    "duration": 20,
    "start_time": "2022-02-15T04:51:06.907Z"
   },
   {
    "duration": 10,
    "start_time": "2022-02-15T04:51:06.928Z"
   },
   {
    "duration": 11,
    "start_time": "2022-02-15T04:51:06.939Z"
   },
   {
    "duration": 1001,
    "start_time": "2022-02-15T04:51:06.951Z"
   },
   {
    "duration": 347,
    "start_time": "2022-02-15T04:51:07.954Z"
   },
   {
    "duration": 394,
    "start_time": "2022-02-15T04:51:08.302Z"
   },
   {
    "duration": 5,
    "start_time": "2022-02-15T04:51:08.697Z"
   },
   {
    "duration": 5,
    "start_time": "2022-02-15T04:51:08.704Z"
   },
   {
    "duration": 8,
    "start_time": "2022-02-15T04:51:08.727Z"
   },
   {
    "duration": 7,
    "start_time": "2022-02-15T04:51:08.737Z"
   },
   {
    "duration": 21,
    "start_time": "2022-02-15T04:53:48.761Z"
   },
   {
    "duration": 4,
    "start_time": "2022-02-15T04:53:57.923Z"
   },
   {
    "duration": 1817,
    "start_time": "2022-02-15T07:21:43.508Z"
   },
   {
    "duration": 368,
    "start_time": "2022-02-15T07:22:17.170Z"
   },
   {
    "duration": 5,
    "start_time": "2022-02-15T07:22:31.569Z"
   },
   {
    "duration": 1252,
    "start_time": "2022-02-15T07:22:31.577Z"
   },
   {
    "duration": 174,
    "start_time": "2022-02-15T07:22:32.832Z"
   },
   {
    "duration": 95,
    "start_time": "2022-02-15T07:22:33.010Z"
   },
   {
    "duration": 186,
    "start_time": "2022-02-15T07:22:33.108Z"
   },
   {
    "duration": 714,
    "start_time": "2022-02-15T07:22:33.297Z"
   },
   {
    "duration": 461,
    "start_time": "2022-02-15T07:22:34.014Z"
   },
   {
    "duration": 97,
    "start_time": "2022-02-15T07:22:34.479Z"
   },
   {
    "duration": 16,
    "start_time": "2022-02-15T07:22:34.578Z"
   },
   {
    "duration": 136,
    "start_time": "2022-02-15T07:22:34.596Z"
   },
   {
    "duration": 70,
    "start_time": "2022-02-15T07:22:34.734Z"
   },
   {
    "duration": 81,
    "start_time": "2022-02-15T07:22:34.806Z"
   },
   {
    "duration": 22,
    "start_time": "2022-02-15T07:22:34.889Z"
   },
   {
    "duration": 11,
    "start_time": "2022-02-15T07:22:34.914Z"
   },
   {
    "duration": 18,
    "start_time": "2022-02-15T07:22:34.950Z"
   },
   {
    "duration": 26,
    "start_time": "2022-02-15T07:22:34.971Z"
   },
   {
    "duration": 14,
    "start_time": "2022-02-15T07:22:35.000Z"
   },
   {
    "duration": 36,
    "start_time": "2022-02-15T07:22:35.017Z"
   },
   {
    "duration": 13,
    "start_time": "2022-02-15T07:22:35.058Z"
   },
   {
    "duration": 35,
    "start_time": "2022-02-15T07:22:35.075Z"
   },
   {
    "duration": 49,
    "start_time": "2022-02-15T07:22:35.113Z"
   },
   {
    "duration": 25,
    "start_time": "2022-02-15T07:22:35.165Z"
   },
   {
    "duration": 20,
    "start_time": "2022-02-15T07:22:35.192Z"
   },
   {
    "duration": 38,
    "start_time": "2022-02-15T07:22:35.248Z"
   },
   {
    "duration": 6,
    "start_time": "2022-02-15T07:22:35.288Z"
   },
   {
    "duration": 66,
    "start_time": "2022-02-15T07:22:35.297Z"
   },
   {
    "duration": 27,
    "start_time": "2022-02-15T07:22:35.366Z"
   },
   {
    "duration": 67,
    "start_time": "2022-02-15T07:22:35.395Z"
   },
   {
    "duration": 5,
    "start_time": "2022-02-15T07:22:35.465Z"
   },
   {
    "duration": 606,
    "start_time": "2022-02-15T07:22:35.473Z"
   },
   {
    "duration": 22,
    "start_time": "2022-02-15T07:22:36.082Z"
   },
   {
    "duration": 32,
    "start_time": "2022-02-15T07:22:36.106Z"
   },
   {
    "duration": 27,
    "start_time": "2022-02-15T07:22:36.141Z"
   },
   {
    "duration": 1926,
    "start_time": "2022-02-15T07:22:36.170Z"
   },
   {
    "duration": 643,
    "start_time": "2022-02-15T07:22:38.098Z"
   },
   {
    "duration": 702,
    "start_time": "2022-02-15T07:22:38.748Z"
   },
   {
    "duration": 8,
    "start_time": "2022-02-15T07:22:39.453Z"
   },
   {
    "duration": 17,
    "start_time": "2022-02-15T07:22:39.463Z"
   },
   {
    "duration": 40,
    "start_time": "2022-02-15T07:22:39.482Z"
   },
   {
    "duration": 20,
    "start_time": "2022-02-15T07:22:39.525Z"
   },
   {
    "duration": 6,
    "start_time": "2022-02-15T07:23:52.504Z"
   },
   {
    "duration": 384,
    "start_time": "2022-02-15T07:23:54.597Z"
   },
   {
    "duration": 372,
    "start_time": "2022-02-15T07:28:40.249Z"
   },
   {
    "duration": 91,
    "start_time": "2022-02-15T07:33:21.991Z"
   },
   {
    "duration": 571,
    "start_time": "2022-02-15T07:33:29.552Z"
   },
   {
    "duration": 358,
    "start_time": "2022-02-15T07:33:34.366Z"
   },
   {
    "duration": 78,
    "start_time": "2022-02-15T07:33:43.702Z"
   },
   {
    "duration": 87,
    "start_time": "2022-02-15T07:33:46.982Z"
   },
   {
    "duration": 341,
    "start_time": "2022-02-15T07:33:50.413Z"
   },
   {
    "duration": 60,
    "start_time": "2022-02-15T07:37:21.010Z"
   },
   {
    "duration": 955,
    "start_time": "2022-02-15T07:39:23.739Z"
   },
   {
    "duration": 516,
    "start_time": "2022-02-15T07:46:17.471Z"
   },
   {
    "duration": 903,
    "start_time": "2022-02-15T07:47:54.272Z"
   },
   {
    "duration": 949,
    "start_time": "2022-02-15T07:48:04.431Z"
   },
   {
    "duration": 982,
    "start_time": "2022-02-15T07:49:32.278Z"
   },
   {
    "duration": 1026,
    "start_time": "2022-02-15T07:50:01.527Z"
   },
   {
    "duration": 944,
    "start_time": "2022-02-15T07:50:26.682Z"
   },
   {
    "duration": 86,
    "start_time": "2022-02-15T07:51:44.136Z"
   },
   {
    "duration": 86,
    "start_time": "2022-02-15T07:51:51.837Z"
   },
   {
    "duration": 972,
    "start_time": "2022-02-15T07:52:08.598Z"
   },
   {
    "duration": 261,
    "start_time": "2022-02-15T07:53:00.753Z"
   },
   {
    "duration": 244,
    "start_time": "2022-02-15T07:59:10.418Z"
   },
   {
    "duration": 372,
    "start_time": "2022-02-15T08:00:20.036Z"
   },
   {
    "duration": 973,
    "start_time": "2022-02-15T08:00:24.659Z"
   },
   {
    "duration": 1173,
    "start_time": "2022-02-15T08:06:32.164Z"
   },
   {
    "duration": 1096,
    "start_time": "2022-02-15T08:06:56.086Z"
   },
   {
    "duration": 948,
    "start_time": "2022-02-15T08:07:11.878Z"
   },
   {
    "duration": 6,
    "start_time": "2022-02-15T08:11:11.450Z"
   },
   {
    "duration": 1042,
    "start_time": "2022-02-15T08:11:11.459Z"
   },
   {
    "duration": 297,
    "start_time": "2022-02-15T08:11:12.505Z"
   },
   {
    "duration": 717,
    "start_time": "2022-02-15T08:11:12.805Z"
   },
   {
    "duration": 452,
    "start_time": "2022-02-15T08:11:13.524Z"
   },
   {
    "duration": 86,
    "start_time": "2022-02-15T08:11:13.979Z"
   },
   {
    "duration": 16,
    "start_time": "2022-02-15T08:11:14.068Z"
   },
   {
    "duration": 119,
    "start_time": "2022-02-15T08:11:14.087Z"
   },
   {
    "duration": 70,
    "start_time": "2022-02-15T08:11:14.209Z"
   },
   {
    "duration": 69,
    "start_time": "2022-02-15T08:11:14.281Z"
   },
   {
    "duration": 15,
    "start_time": "2022-02-15T08:11:14.353Z"
   },
   {
    "duration": 8,
    "start_time": "2022-02-15T08:11:14.371Z"
   },
   {
    "duration": 11,
    "start_time": "2022-02-15T08:11:14.382Z"
   },
   {
    "duration": 55,
    "start_time": "2022-02-15T08:11:14.396Z"
   },
   {
    "duration": 9,
    "start_time": "2022-02-15T08:11:14.453Z"
   },
   {
    "duration": 19,
    "start_time": "2022-02-15T08:11:14.464Z"
   },
   {
    "duration": 13,
    "start_time": "2022-02-15T08:11:14.486Z"
   },
   {
    "duration": 60,
    "start_time": "2022-02-15T08:11:14.502Z"
   },
   {
    "duration": 22,
    "start_time": "2022-02-15T08:11:14.567Z"
   },
   {
    "duration": 22,
    "start_time": "2022-02-15T08:11:14.592Z"
   },
   {
    "duration": 48,
    "start_time": "2022-02-15T08:11:14.617Z"
   },
   {
    "duration": 32,
    "start_time": "2022-02-15T08:11:14.667Z"
   },
   {
    "duration": 7,
    "start_time": "2022-02-15T08:11:14.702Z"
   },
   {
    "duration": 75,
    "start_time": "2022-02-15T08:11:14.711Z"
   },
   {
    "duration": 28,
    "start_time": "2022-02-15T08:11:14.789Z"
   },
   {
    "duration": 52,
    "start_time": "2022-02-15T08:11:14.819Z"
   },
   {
    "duration": 5,
    "start_time": "2022-02-15T08:11:14.874Z"
   },
   {
    "duration": 996,
    "start_time": "2022-02-15T08:11:14.881Z"
   },
   {
    "duration": 20,
    "start_time": "2022-02-15T08:11:15.879Z"
   },
   {
    "duration": 74,
    "start_time": "2022-02-15T08:11:15.901Z"
   },
   {
    "duration": 920,
    "start_time": "2022-02-15T08:11:15.978Z"
   },
   {
    "duration": 10,
    "start_time": "2022-02-15T08:11:16.901Z"
   },
   {
    "duration": 7,
    "start_time": "2022-02-15T08:11:16.913Z"
   },
   {
    "duration": 11,
    "start_time": "2022-02-15T08:11:16.949Z"
   },
   {
    "duration": 9,
    "start_time": "2022-02-15T08:11:16.962Z"
   }
  ],
  "kernelspec": {
   "display_name": "Python 3 (ipykernel)",
   "language": "python",
   "name": "python3"
  },
  "language_info": {
   "codemirror_mode": {
    "name": "ipython",
    "version": 3
   },
   "file_extension": ".py",
   "mimetype": "text/x-python",
   "name": "python",
   "nbconvert_exporter": "python",
   "pygments_lexer": "ipython3",
   "version": "3.9.7"
  },
  "toc": {
   "base_numbering": 1,
   "nav_menu": {},
   "number_sections": true,
   "sideBar": true,
   "skip_h1_title": true,
   "title_cell": "Содержание",
   "title_sidebar": "Contents",
   "toc_cell": true,
   "toc_position": {
    "height": "calc(100% - 180px)",
    "left": "10px",
    "top": "150px",
    "width": "384px"
   },
   "toc_section_display": true,
   "toc_window_display": true
  }
 },
 "nbformat": 4,
 "nbformat_minor": 5
}
